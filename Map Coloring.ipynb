{
 "cells": [
  {
   "cell_type": "code",
   "execution_count": 21,
   "id": "talented-parliament",
   "metadata": {},
   "outputs": [],
   "source": [
    "def safe(node, color,colorsofEachNodes,neighbours):\n",
    "    for i in neighbours[node]: \n",
    "        colorofneighbour = colorsofEachNodes.get(i)\n",
    "        if colorofneighbour == color:                       #if same color then return false\n",
    "            return False\n",
    "\n",
    "    return True"
   ]
  },
  {
   "cell_type": "code",
   "execution_count": 22,
   "id": "confident-tissue",
   "metadata": {},
   "outputs": [],
   "source": [
    "def assign(node,colors,colorsofEachNodes,neighbours):\n",
    "    for color in colors:\n",
    "        if safe(node, color,colorsofEachNodes,neighbours):\n",
    "            return color"
   ]
  },
  {
   "cell_type": "code",
   "execution_count": 23,
   "id": "banner-southeast",
   "metadata": {},
   "outputs": [],
   "source": [
    "def MRV(n,neighbours,colorsofEachNodes):\n",
    "    a=0\n",
    "    length=999\n",
    "    for i in n:\n",
    "        if(length > len(neighbours[i])):\n",
    "            if(colorsofEachNodes.get(i,0) == 0):\n",
    "                length = len(neighbours[i])\n",
    "                a=i\n",
    "    \n",
    "    return a\n",
    "            "
   ]
  },
  {
   "cell_type": "code",
   "execution_count": 24,
   "id": "agreed-sustainability",
   "metadata": {},
   "outputs": [],
   "source": [
    "def MCV(n,neighbours,colorsofEachNodes):\n",
    "    a=0\n",
    "    length=0\n",
    "    for i in n:\n",
    "        if(length < len(neighbours[i])):\n",
    "            if(colorsofEachNodes.get(i,0) == 0):\n",
    "                length = len(neighbours[i])\n",
    "                a=i\n",
    "    \n",
    "    return a"
   ]
  },
  {
   "cell_type": "code",
   "execution_count": 30,
   "id": "perfect-escape",
   "metadata": {},
   "outputs": [
    {
     "name": "stdout",
     "output_type": "stream",
     "text": [
      "MRV:  {'Sindh': 'Red', 'Balochistan': 'Green', 'NWFP': 'Red', 'Kashmir': 'Green', 'Punjab': 'Blue'}\n",
      "\n",
      "MCV:  {'Punjab': 'Red', 'Balochistan': 'Green', 'NWFP': 'Blue', 'Sindh': 'Blue', 'Kashmir': 'Green'}\n"
     ]
    }
   ],
   "source": [
    "def main():\n",
    "    graph_nodes = [\n",
    "        'Sindh', \n",
    "        'Balochistan', \n",
    "        'Punjab', \n",
    "        'NWFP', \n",
    "        'Kashmir']\n",
    "    \n",
    "    colors = ['Red','Green','Blue']\n",
    "\n",
    "    neighbours = {}\n",
    "    neighbours['Sindh'] = ['Punjab', 'Balochistan']\n",
    "    neighbours['Balochistan'] = ['Sindh', 'Punjab', 'NWFP']\n",
    "    neighbours['Punjab'] = ['Sindh', 'Balochistan', 'NWFP', 'Kashmir']\n",
    "    neighbours['NWFP'] = ['Balochistan', 'Punjab', 'Kashmir']\n",
    "    neighbours['Kashmir'] = ['Punjab', 'NWFP']\n",
    "    colorsofEachNodes = {}\n",
    "    \n",
    "    node= MRV(list(neighbours.keys()),neighbours,colorsofEachNodes)\n",
    "    \n",
    "    colorsofEachNodes[node] = assign(node,colors,colorsofEachNodes,neighbours)\n",
    "    for i in neighbours.keys():\n",
    "        node = MRV(neighbours[i],neighbours,colorsofEachNodes)\n",
    "        if node != 0:\n",
    "            colorsofEachNodes[node] = assign(node,colors,colorsofEachNodes,neighbours)\n",
    "    \n",
    "    print('MRV: ',colorsofEachNodes)\n",
    "    \n",
    "    colorsofEachNodes1 = {}\n",
    "    node1= MCV(list(neighbours.keys()),neighbours,colorsofEachNodes1)\n",
    "\n",
    "    colorsofEachNodes1[node1] = assign(node1,colors,colorsofEachNodes1,neighbours)\n",
    "    for i in neighbours.keys():\n",
    "        node1 = MCV(neighbours[i],neighbours,colorsofEachNodes1)\n",
    "        if node1 != 0:\n",
    "            colorsofEachNodes1[node1] = assign(node1,colors,colorsofEachNodes1,neighbours)\n",
    "    \n",
    "    print('\\nMCV: ',colorsofEachNodes1)\n",
    "\n",
    "\n",
    "if __name__ == \"__main__\":\n",
    "    main()\n",
    "    "
   ]
  }
 ],
 "metadata": {
  "kernelspec": {
   "display_name": "Python 3",
   "language": "python",
   "name": "python3"
  },
  "language_info": {
   "codemirror_mode": {
    "name": "ipython",
    "version": 3
   },
   "file_extension": ".py",
   "mimetype": "text/x-python",
   "name": "python",
   "nbconvert_exporter": "python",
   "pygments_lexer": "ipython3",
   "version": "3.6.13"
  }
 },
 "nbformat": 4,
 "nbformat_minor": 5
}
